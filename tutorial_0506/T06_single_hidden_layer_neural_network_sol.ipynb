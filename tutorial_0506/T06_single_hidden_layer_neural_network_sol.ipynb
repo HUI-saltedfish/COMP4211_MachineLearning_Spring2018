{
 "cells": [
  {
   "cell_type": "code",
   "execution_count": 1,
   "metadata": {},
   "outputs": [
    {
     "data": {
      "text/plain": [
       "'1.1.0'"
      ]
     },
     "execution_count": 1,
     "metadata": {},
     "output_type": "execute_result"
    }
   ],
   "source": [
    "import tensorflow as tf\n",
    "tf.__version__"
   ]
  },
  {
   "cell_type": "markdown",
   "metadata": {},
   "source": [
    "# Load Data"
   ]
  },
  {
   "cell_type": "code",
   "execution_count": 2,
   "metadata": {},
   "outputs": [
    {
     "name": "stdout",
     "output_type": "stream",
     "text": [
      "Extracting data/MNIST/train-images-idx3-ubyte.gz\n",
      "Extracting data/MNIST/train-labels-idx1-ubyte.gz\n",
      "Extracting data/MNIST/t10k-images-idx3-ubyte.gz\n",
      "Extracting data/MNIST/t10k-labels-idx1-ubyte.gz\n"
     ]
    }
   ],
   "source": [
    "# load MNIST dataset\n",
    "from tensorflow.examples.tutorials.mnist import input_data\n",
    "data = input_data.read_data_sets(\"data/MNIST/\", one_hot=True)"
   ]
  },
  {
   "cell_type": "markdown",
   "metadata": {},
   "source": [
    "# Defining the computation graph"
   ]
  },
  {
   "cell_type": "code",
   "execution_count": 3,
   "metadata": {},
   "outputs": [],
   "source": [
    "# defining the layer structure\n",
    "img_size = 28\n",
    "img_size_flat = img_size * img_size\n",
    "img_shape = (img_size, img_size)\n",
    "num_classes = 10"
   ]
  },
  {
   "cell_type": "code",
   "execution_count": 4,
   "metadata": {},
   "outputs": [],
   "source": [
    "# input to the computation graph\n",
    "X = tf.placeholder(tf.float32, [None, img_size_flat])\n",
    "y_true = tf.placeholder(tf.float32, [None, num_classes])\n",
    "\n",
    "# hidden layer\n",
    "hl_size_1 = 128\n",
    "w1 = tf.Variable(tf.random_normal([img_size_flat, hl_size_1]))\n",
    "b1 = tf.Variable(tf.random_normal([hl_size_1]))\n",
    "z1 = tf.matmul(X, w1) + b1\n",
    "a1 = tf.nn.relu(z1)\n",
    "\n",
    "# output layer\n",
    "w2 = tf.Variable(tf.random_normal([hl_size_1, num_classes]))\n",
    "b2 = tf.Variable(tf.random_normal([num_classes]))\n",
    "logits = tf.matmul(a1, w2) + b2\n",
    "y_pred = tf.nn.softmax(logits)\n",
    "\n",
    "# cost function\n",
    "cost = tf.losses.mean_squared_error(\n",
    "    labels=y_true,\n",
    "    predictions=y_pred\n",
    ")\n",
    "\n",
    "# optimizer\n",
    "optimizer = tf.train.AdamOptimizer(learning_rate=1e-3).minimize(cost)\n",
    "# optimizer = tf.train.GradientDescentOptimizer(learning_rate=1e-3).minimize(cost)\n",
    "\n",
    "# Calculate accuracy\n",
    "predict = tf.argmax(logits, 1)\n",
    "correct_prediction = tf.equal(predict, tf.argmax(y_true, 1))\n",
    "accuracy = tf.reduce_mean(tf.cast(correct_prediction, tf.float32))"
   ]
  },
  {
   "cell_type": "markdown",
   "metadata": {},
   "source": [
    "# Run the computation graph"
   ]
  },
  {
   "cell_type": "code",
   "execution_count": 5,
   "metadata": {},
   "outputs": [],
   "source": [
    "# initialize a session\n",
    "session = tf.Session()\n",
    "session.run(tf.global_variables_initializer())"
   ]
  },
  {
   "cell_type": "code",
   "execution_count": 6,
   "metadata": {},
   "outputs": [],
   "source": [
    "# define the function optimizing the weights and biases\n",
    "batch_size = 100\n",
    "def optimize(num_iterations):\n",
    "    for i in range(num_iterations):\n",
    "        if i % 500 == 0:\n",
    "            print(\"iter-{}\".format(i), end=', ')\n",
    "            print_accuracy()\n",
    "        x_batch, y_true_batch = data.train.next_batch(batch_size)\n",
    "        \n",
    "        feed_dict_train = {X: x_batch,\n",
    "                           y_true: y_true_batch}\n",
    "        \n",
    "        session.run(optimizer, feed_dict=feed_dict_train)\n",
    "        \n",
    "def print_accuracy():\n",
    "    acc = session.run(accuracy, feed_dict=feed_dict_test)\n",
    "    \n",
    "    print(\"Accuracy on test-set: {0:.1%}\".format(acc))"
   ]
  },
  {
   "cell_type": "code",
   "execution_count": 7,
   "metadata": {},
   "outputs": [],
   "source": [
    "feed_dict_test = {X: data.test.images,\n",
    "                  y_true: data.test.labels}"
   ]
  },
  {
   "cell_type": "code",
   "execution_count": 8,
   "metadata": {},
   "outputs": [
    {
     "name": "stdout",
     "output_type": "stream",
     "text": [
      "Accuracy on test-set: 10.2%\n"
     ]
    }
   ],
   "source": [
    "print_accuracy()"
   ]
  },
  {
   "cell_type": "code",
   "execution_count": 9,
   "metadata": {},
   "outputs": [
    {
     "name": "stdout",
     "output_type": "stream",
     "text": [
      "iter-0, Accuracy on test-set: 10.2%\n",
      "Accuracy on test-set: 19.8%\n"
     ]
    }
   ],
   "source": [
    "optimize(100)\n",
    "print_accuracy()"
   ]
  },
  {
   "cell_type": "code",
   "execution_count": 10,
   "metadata": {},
   "outputs": [
    {
     "name": "stdout",
     "output_type": "stream",
     "text": [
      "iter-0, Accuracy on test-set: 19.8%\n",
      "iter-500, Accuracy on test-set: 49.1%\n",
      "iter-1000, Accuracy on test-set: 55.2%\n",
      "iter-1500, Accuracy on test-set: 65.3%\n",
      "iter-2000, Accuracy on test-set: 69.7%\n",
      "iter-2500, Accuracy on test-set: 71.9%\n",
      "iter-3000, Accuracy on test-set: 73.1%\n",
      "iter-3500, Accuracy on test-set: 73.4%\n",
      "iter-4000, Accuracy on test-set: 74.2%\n",
      "iter-4500, Accuracy on test-set: 74.8%\n",
      "iter-5000, Accuracy on test-set: 76.0%\n",
      "iter-5500, Accuracy on test-set: 79.9%\n",
      "iter-6000, Accuracy on test-set: 80.9%\n",
      "iter-6500, Accuracy on test-set: 81.7%\n",
      "iter-7000, Accuracy on test-set: 81.7%\n",
      "iter-7500, Accuracy on test-set: 82.2%\n",
      "iter-8000, Accuracy on test-set: 82.6%\n",
      "iter-8500, Accuracy on test-set: 82.8%\n",
      "iter-9000, Accuracy on test-set: 83.2%\n",
      "iter-9500, Accuracy on test-set: 83.3%\n",
      "Accuracy on test-set: 83.5%\n"
     ]
    }
   ],
   "source": [
    "# we have alreay done 100 iteration\n",
    "optimize(10000)\n",
    "print_accuracy()"
   ]
  },
  {
   "cell_type": "code",
   "execution_count": null,
   "metadata": {},
   "outputs": [],
   "source": []
  }
 ],
 "metadata": {
  "kernelspec": {
   "display_name": "Python 3.6",
   "language": "python",
   "name": "python36"
  },
  "language_info": {
   "codemirror_mode": {
    "name": "ipython",
    "version": 3
   },
   "file_extension": ".py",
   "mimetype": "text/x-python",
   "name": "python",
   "nbconvert_exporter": "python",
   "pygments_lexer": "ipython3",
   "version": "3.6.3"
  }
 },
 "nbformat": 4,
 "nbformat_minor": 2
}
