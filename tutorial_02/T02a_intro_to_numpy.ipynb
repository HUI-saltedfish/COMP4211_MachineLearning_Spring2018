{
 "cells": [
  {
   "cell_type": "markdown",
   "metadata": {},
   "source": [
    "This jupyter notebook is prepared by [Chun-Kit Yeung](https://ckyeungac.com).\n",
    "\n",
    "# Tutorial 2\n",
    "In the last tutorial, we introduce the `list` data type in Python. If you remember, `list` can store heterogeneous types of data in the same list for conveniency. This comes with a cost, an expensive cost in computation. That is the reason why Python has long been blamed for the inefficiency in computation compared with C++ or Java in which data type has to be specified during instantiation. Even though Python is not a high-performance programming language, people love it (including me) because it provides a rapid cycle in development. For example, 20 lines of C++ code could be done in just 1 line of Python code. \n",
    "\n",
    "So as to enabling fast computation in Python, there are many libraries (or called packages if we wanna be more pythonic) devised. `Numpy` is one of them to empower fast computation in list object. This package is widely used in many machine learning or deep learning libraries, such as scikit-learn, tensorflow and mxnet. Thus, in this tutorial, I would like to introduce the Numpy package and show you the basic usage of it.\n",
    "\n",
    "First of all, let's import the package. These are the ways to import the package in python.\n",
    "```python\n",
    "import xxx\n",
    "import xxx as x\n",
    "from xxx import yyy\n",
    "from xxx import yyy as y\n",
    "```"
   ]
  },
  {
   "cell_type": "code",
   "execution_count": 1,
   "metadata": {},
   "outputs": [],
   "source": [
    "import numpy as np # we import the numpy package and name it as np"
   ]
  },
  {
   "cell_type": "markdown",
   "metadata": {},
   "source": [
    "## Start playing with numpy"
   ]
  },
  {
   "cell_type": "code",
   "execution_count": 2,
   "metadata": {},
   "outputs": [
    {
     "name": "stdout",
     "output_type": "stream",
     "text": [
      "[1, 2, 3] <class 'list'>\n"
     ]
    }
   ],
   "source": [
    "a = [1,2,3]\n",
    "print(a, type(a))"
   ]
  },
  {
   "cell_type": "code",
   "execution_count": 3,
   "metadata": {},
   "outputs": [
    {
     "name": "stdout",
     "output_type": "stream",
     "text": [
      "[1 2 3] <class 'numpy.ndarray'>\n"
     ]
    }
   ],
   "source": [
    "b = np.array(a)\n",
    "print(b, type(b))"
   ]
  },
  {
   "cell_type": "markdown",
   "metadata": {},
   "source": [
    "### Useful attributes of `ndarray`"
   ]
  },
  {
   "cell_type": "code",
   "execution_count": 4,
   "metadata": {},
   "outputs": [
    {
     "name": "stdout",
     "output_type": "stream",
     "text": [
      "[[1 2 3 4]\n",
      " [2 3 4 5]\n",
      " [3 4 5 6]]\n"
     ]
    }
   ],
   "source": [
    "# Let's create a rank-2 array\n",
    "# rank-2 means it is a two-dimensional array\n",
    "a = np.array(\n",
    "    [[1,2,3,4], \n",
    "     [2,3,4,5],\n",
    "     [3,4,5,6]]\n",
    ")\n",
    "print(a)"
   ]
  },
  {
   "cell_type": "code",
   "execution_count": 5,
   "metadata": {},
   "outputs": [
    {
     "name": "stdout",
     "output_type": "stream",
     "text": [
      "a.shape: (3, 4)\n",
      "a.ndim: 2\n",
      "a.dtype: int64\n",
      "a.size: 12\n"
     ]
    }
   ],
   "source": [
    "# the dimensions of the array\n",
    "print('a.shape:', a.shape)\n",
    "\n",
    "# the number of axes (dimensions) of the array\n",
    "print('a.ndim:', a.ndim)\n",
    "\n",
    "# an object describing the type of the elements in the array\n",
    "print('a.dtype:', a.dtype)\n",
    "\n",
    "# the total number of elements of the array.\n",
    "print('a.size:', a.size) "
   ]
  },
  {
   "cell_type": "markdown",
   "metadata": {},
   "source": [
    "### Creating ndarray"
   ]
  },
  {
   "cell_type": "code",
   "execution_count": 6,
   "metadata": {},
   "outputs": [
    {
     "name": "stdout",
     "output_type": "stream",
     "text": [
      "[[ 0.  0.  0.]\n",
      " [ 0.  0.  0.]]\n",
      "shape: (2, 3)\n",
      "dtype: float64\n"
     ]
    }
   ],
   "source": [
    "# Create a rank-2 array with shape (2, 3) filled up with 0.\n",
    "a = np.zeros(shape=(2,3))\n",
    "print(a)\n",
    "print('shape:', a.shape)\n",
    "print('dtype:', a.dtype)"
   ]
  },
  {
   "cell_type": "code",
   "execution_count": 7,
   "metadata": {},
   "outputs": [
    {
     "name": "stdout",
     "output_type": "stream",
     "text": [
      "[[[1 1 1 1]\n",
      "  [1 1 1 1]\n",
      "  [1 1 1 1]]\n",
      "\n",
      " [[1 1 1 1]\n",
      "  [1 1 1 1]\n",
      "  [1 1 1 1]]]\n",
      "shape: (2, 3, 4)\n",
      "dtype: int16\n"
     ]
    }
   ],
   "source": [
    "# Create a rank-3 array filled up with 1 and integer type.\n",
    "a = np.ones(shape=(2,3,4), dtype=np.int16)\n",
    "print(a)\n",
    "print('shape:', a.shape)\n",
    "print('dtype:', a.dtype)"
   ]
  },
  {
   "cell_type": "code",
   "execution_count": 8,
   "metadata": {},
   "outputs": [
    {
     "name": "stdout",
     "output_type": "stream",
     "text": [
      "[[[ 2.8  2.8  2.8  2.8]\n",
      "  [ 2.8  2.8  2.8  2.8]\n",
      "  [ 2.8  2.8  2.8  2.8]]\n",
      "\n",
      " [[ 2.8  2.8  2.8  2.8]\n",
      "  [ 2.8  2.8  2.8  2.8]\n",
      "  [ 2.8  2.8  2.8  2.8]]]\n",
      "shape: (2, 3, 4)\n",
      "dtype: float64\n"
     ]
    }
   ],
   "source": [
    "# Create a rank-3 array filled up with 2.8.\n",
    "a = np.full(shape=(2,3,4), fill_value=2.8)\n",
    "print(a)\n",
    "print('shape:', a.shape)\n",
    "print('dtype:', a.dtype)"
   ]
  },
  {
   "cell_type": "code",
   "execution_count": 9,
   "metadata": {},
   "outputs": [
    {
     "name": "stdout",
     "output_type": "stream",
     "text": [
      "[[ 1.  0.  0.]\n",
      " [ 0.  1.  0.]\n",
      " [ 0.  0.  1.]]\n",
      "shape: (3, 3)\n",
      "dtype: float64\n"
     ]
    }
   ],
   "source": [
    "# Create a rank-2 identity matrix\n",
    "a = np.eye(3)\n",
    "print(a)\n",
    "print('shape:', a.shape)\n",
    "print('dtype:', a.dtype)"
   ]
  },
  {
   "cell_type": "code",
   "execution_count": 10,
   "metadata": {},
   "outputs": [
    {
     "name": "stdout",
     "output_type": "stream",
     "text": [
      "[[ 0.06767046  0.25211727  0.33678748]\n",
      " [ 0.42879528  0.49077682  0.57845785]]\n",
      "shape: (2, 3)\n",
      "dtype: float64\n"
     ]
    }
   ],
   "source": [
    "# create a rank-2 array with random values\n",
    "a = np.random.random((2,3))\n",
    "print(a)\n",
    "print('shape:', a.shape)\n",
    "print('dtype:', a.dtype)"
   ]
  },
  {
   "cell_type": "code",
   "execution_count": 11,
   "metadata": {},
   "outputs": [
    {
     "name": "stdout",
     "output_type": "stream",
     "text": [
      "[ 0  1  2  3  4  5  6  7  8  9 10 11 12 13 14 15 16 17 18 19 20 21 22 23 24\n",
      " 25 26 27 28 29 30 31 32 33 34 35 36 37 38 39 40 41 42 43 44 45 46 47 48 49\n",
      " 50 51 52 53 54 55 56 57 58 59 60 61 62 63 64 65 66 67 68 69 70 71 72 73 74\n",
      " 75 76 77 78 79 80 81 82 83 84 85 86 87 88 89 90 91 92 93 94 95 96 97 98 99]\n",
      "shape: (100,)\n",
      "dtype: int64\n"
     ]
    }
   ],
   "source": [
    "# create a list same as range()\n",
    "a = np.arange(100)\n",
    "print(a)\n",
    "print('shape:', a.shape)\n",
    "print('dtype:', a.dtype)"
   ]
  },
  {
   "cell_type": "code",
   "execution_count": 12,
   "metadata": {},
   "outputs": [
    {
     "name": "stdout",
     "output_type": "stream",
     "text": [
      "[[ 0  1  2  3  4  5  6  7  8  9 10 11 12 13 14 15 16 17 18 19]\n",
      " [20 21 22 23 24 25 26 27 28 29 30 31 32 33 34 35 36 37 38 39]\n",
      " [40 41 42 43 44 45 46 47 48 49 50 51 52 53 54 55 56 57 58 59]\n",
      " [60 61 62 63 64 65 66 67 68 69 70 71 72 73 74 75 76 77 78 79]\n",
      " [80 81 82 83 84 85 86 87 88 89 90 91 92 93 94 95 96 97 98 99]]\n",
      "shape: (5, 20)\n",
      "dtype: int64\n"
     ]
    }
   ],
   "source": [
    "# reshape the array from rank-1 to rank-2\n",
    "a = np.arange(100).reshape(5,20)\n",
    "print(a)\n",
    "print('shape:', a.shape)\n",
    "print('dtype:', a.dtype)"
   ]
  },
  {
   "cell_type": "code",
   "execution_count": 13,
   "metadata": {},
   "outputs": [
    {
     "name": "stdout",
     "output_type": "stream",
     "text": [
      "[ 0.   0.3  0.6  0.9  1.2  1.5  1.8]\n",
      "shape: (7,)\n",
      "dtype: float64\n"
     ]
    }
   ],
   "source": [
    "# it accepts float arguments\n",
    "a = np.arange( 0, 2, 0.3 )\n",
    "print(a)\n",
    "print('shape:', a.shape)\n",
    "print('dtype:', a.dtype)"
   ]
  },
  {
   "cell_type": "markdown",
   "metadata": {},
   "source": [
    "When `arange` is used with floating point arguments, it is generally not possible to predict the number of elements obtained, due to the finite floating point precision. For this reason, it is usually better to use the function `linspace` that receives as an argument the number of elements that we want, instead of the step:"
   ]
  },
  {
   "cell_type": "code",
   "execution_count": 14,
   "metadata": {},
   "outputs": [
    {
     "name": "stdout",
     "output_type": "stream",
     "text": [
      "[ 0.    0.25  0.5   0.75  1.    1.25  1.5   1.75  2.  ]\n",
      "shape: (9,)\n",
      "dtype: float64\n"
     ]
    }
   ],
   "source": [
    "# create 9 numbers from 0 to 2 with equal spacing\n",
    "a = np.linspace( 0, 2, 9 )\n",
    "print(a)\n",
    "print('shape:', a.shape)\n",
    "print('dtype:', a.dtype)"
   ]
  },
  {
   "cell_type": "code",
   "execution_count": 15,
   "metadata": {},
   "outputs": [
    {
     "name": "stdout",
     "output_type": "stream",
     "text": [
      "[ 0.          0.03173326  0.06346652  0.09519978  0.12693304  0.1586663\n",
      "  0.19039955  0.22213281  0.25386607  0.28559933  0.31733259  0.34906585\n",
      "  0.38079911  0.41253237  0.44426563  0.47599889  0.50773215  0.53946541\n",
      "  0.57119866  0.60293192  0.63466518  0.66639844  0.6981317   0.72986496\n",
      "  0.76159822  0.79333148  0.82506474  0.856798    0.88853126  0.92026451\n",
      "  0.95199777  0.98373103  1.01546429  1.04719755  1.07893081  1.11066407\n",
      "  1.14239733  1.17413059  1.20586385  1.23759711  1.26933037  1.30106362\n",
      "  1.33279688  1.36453014  1.3962634   1.42799666  1.45972992  1.49146318\n",
      "  1.52319644  1.5549297   1.58666296  1.61839622  1.65012947  1.68186273\n",
      "  1.71359599  1.74532925  1.77706251  1.80879577  1.84052903  1.87226229\n",
      "  1.90399555  1.93572881  1.96746207  1.99919533  2.03092858  2.06266184\n",
      "  2.0943951   2.12612836  2.15786162  2.18959488  2.22132814  2.2530614\n",
      "  2.28479466  2.31652792  2.34826118  2.37999443  2.41172769  2.44346095\n",
      "  2.47519421  2.50692747  2.53866073  2.57039399  2.60212725  2.63386051\n",
      "  2.66559377  2.69732703  2.72906028  2.76079354  2.7925268   2.82426006\n",
      "  2.85599332  2.88772658  2.91945984  2.9511931   2.98292636  3.01465962\n",
      "  3.04639288  3.07812614  3.10985939  3.14159265]\n",
      "shape: (100,)\n",
      "dtype: float64\n"
     ]
    }
   ],
   "source": [
    "# create 100 numbers from 0 to pi with equal spacing\n",
    "a = np.linspace( 0, np.pi, 100 )\n",
    "print(a)\n",
    "print('shape:', a.shape)\n",
    "print('dtype:', a.dtype)"
   ]
  },
  {
   "cell_type": "markdown",
   "metadata": {},
   "source": [
    "### Array indexing\n",
    "Numpy offers several ways to index into arrays.\n",
    "\n",
    "#### Integer indexing"
   ]
  },
  {
   "cell_type": "code",
   "execution_count": 16,
   "metadata": {},
   "outputs": [
    {
     "name": "stdout",
     "output_type": "stream",
     "text": [
      "[[ 0  1  2  3  4  5  6  7  8  9 10 11 12 13 14 15 16 17 18 19]\n",
      " [20 21 22 23 24 25 26 27 28 29 30 31 32 33 34 35 36 37 38 39]\n",
      " [40 41 42 43 44 45 46 47 48 49 50 51 52 53 54 55 56 57 58 59]\n",
      " [60 61 62 63 64 65 66 67 68 69 70 71 72 73 74 75 76 77 78 79]\n",
      " [80 81 82 83 84 85 86 87 88 89 90 91 92 93 94 95 96 97 98 99]]\n"
     ]
    }
   ],
   "source": [
    "a = np.arange(100).reshape(5,20)\n",
    "print(a)"
   ]
  },
  {
   "cell_type": "code",
   "execution_count": 17,
   "metadata": {},
   "outputs": [
    {
     "name": "stdout",
     "output_type": "stream",
     "text": [
      "a[0]: [ 0  1  2  3  4  5  6  7  8  9 10 11 12 13 14 15 16 17 18 19]\n",
      "a[-1]: [80 81 82 83 84 85 86 87 88 89 90 91 92 93 94 95 96 97 98 99]\n"
     ]
    }
   ],
   "source": [
    "print('a[0]:', a[0])\n",
    "print('a[-1]:', a[-1])"
   ]
  },
  {
   "cell_type": "code",
   "execution_count": 18,
   "metadata": {},
   "outputs": [
    {
     "name": "stdout",
     "output_type": "stream",
     "text": [
      "a[0,0]: 0\n",
      "a[1,2]: 22\n",
      "a[-1,14]: 94\n"
     ]
    }
   ],
   "source": [
    "print('a[0,0]:', a[0,0])\n",
    "print('a[1,2]:', a[1,2])\n",
    "print('a[-1,14]:', a[-1,14])"
   ]
  },
  {
   "cell_type": "code",
   "execution_count": 19,
   "metadata": {},
   "outputs": [
    {
     "name": "stdout",
     "output_type": "stream",
     "text": [
      "[[4321    1    2    3    4    5    6    7    8    9   10   11   12   13\n",
      "    14   15   16   17   18   19]\n",
      " [  20   21   22   23   24   25   26   27   28   29   30   31   32   33\n",
      "    34   35   36   37   38   39]\n",
      " [  40   41   42   43   44   45   46   47   48   49   50   51   52   53\n",
      "    54   55   56   57   58   59]\n",
      " [  60   61   62   63   64   65   66   67   68   69   70   71   72   73\n",
      "    74   75   76   77   78   79]\n",
      " [  80   81   82   83   84   85   86   87   88   89   90   91   92   93\n",
      "    94   95   96   97   98 1234]]\n"
     ]
    }
   ],
   "source": [
    "# assign a value \n",
    "a[-1,-1] = 1234\n",
    "a[0,0] = 4321\n",
    "print(a)"
   ]
  },
  {
   "cell_type": "markdown",
   "metadata": {},
   "source": [
    "#### Slicing\n",
    "\n",
    "Similar to Python lists, numpy arrays can be sliced. Since arrays may be multidimensional, you must specify a slice for each dimension of the array."
   ]
  },
  {
   "cell_type": "code",
   "execution_count": 20,
   "metadata": {},
   "outputs": [
    {
     "name": "stdout",
     "output_type": "stream",
     "text": [
      "[[ 0  1  2  3  4  5  6  7  8  9 10 11 12 13 14 15 16 17 18 19]\n",
      " [20 21 22 23 24 25 26 27 28 29 30 31 32 33 34 35 36 37 38 39]\n",
      " [40 41 42 43 44 45 46 47 48 49 50 51 52 53 54 55 56 57 58 59]\n",
      " [60 61 62 63 64 65 66 67 68 69 70 71 72 73 74 75 76 77 78 79]\n",
      " [80 81 82 83 84 85 86 87 88 89 90 91 92 93 94 95 96 97 98 99]]\n"
     ]
    }
   ],
   "source": [
    "a = np.arange(100).reshape(5,20)\n",
    "print(a)"
   ]
  },
  {
   "cell_type": "code",
   "execution_count": 21,
   "metadata": {},
   "outputs": [
    {
     "name": "stdout",
     "output_type": "stream",
     "text": [
      "a[:2, 1:3]:\n",
      " [[ 1  2  3  4  5  6  7  8  9]\n",
      " [21 22 23 24 25 26 27 28 29]\n",
      " [41 42 43 44 45 46 47 48 49]]\n",
      "shape: (3, 9)\n"
     ]
    }
   ],
   "source": [
    "print('a[:2, 1:3]:\\n', a[:3, 1:10])\n",
    "print('shape:', a[:3, 1:10].shape)"
   ]
  },
  {
   "cell_type": "code",
   "execution_count": 22,
   "metadata": {},
   "outputs": [
    {
     "name": "stdout",
     "output_type": "stream",
     "text": [
      "a[::2, 1:10]:\n",
      " [[ 1  2  3  4  5  6  7  8  9]\n",
      " [61 62 63 64 65 66 67 68 69]]\n",
      "shape: (2, 9)\n"
     ]
    }
   ],
   "source": [
    "# reminder: a[start_ix:end_ix:step_size]\n",
    "# e.g. a[1:4:2], start from index 1, end up to index 4, with step size 2\n",
    "\n",
    "print('a[::2, 1:10]:\\n', a[::3, 1:10])\n",
    "print('shape:', a[::3, 1:10].shape)"
   ]
  },
  {
   "cell_type": "code",
   "execution_count": 23,
   "metadata": {},
   "outputs": [
    {
     "name": "stdout",
     "output_type": "stream",
     "text": [
      "[[-1 -1 -1 -1 -1 -1 -1 -1 -1 -1 -1 -1 -1 -1 -1 -1 -1 -1 -1 -1]\n",
      " [20 21 22 23 24 25 26 27 28 29 30 31 32 33 34 35 36 37 38 39]\n",
      " [40 41 42 43 44 45 46 47 48 49 50 51 52 53 54 55 56 57 58 59]\n",
      " [60 61 62 63 64 65 66 67 68 69 70 71 72 73 74 75 76 77 78 79]\n",
      " [80 81 82 83 84 85 86 87 88 89 90 91 92 93 94 95 96 97 98 99]]\n"
     ]
    }
   ],
   "source": [
    "# assign a value \n",
    "a[0,:] = -1\n",
    "print(a)"
   ]
  },
  {
   "cell_type": "code",
   "execution_count": 24,
   "metadata": {},
   "outputs": [
    {
     "name": "stdout",
     "output_type": "stream",
     "text": [
      "[[-2 -1 -1 -1 -1 -1 -1 -1 -1 -1 -1 -1 -1 -1 -1 -1 -1 -1 -1 -1]\n",
      " [-2 21 22 23 24 25 26 27 28 29 30 31 32 33 34 35 36 37 38 39]\n",
      " [-2 41 42 43 44 45 46 47 48 49 50 51 52 53 54 55 56 57 58 59]\n",
      " [-2 61 62 63 64 65 66 67 68 69 70 71 72 73 74 75 76 77 78 79]\n",
      " [-2 81 82 83 84 85 86 87 88 89 90 91 92 93 94 95 96 97 98 99]]\n"
     ]
    }
   ],
   "source": [
    "# assign a value \n",
    "a[:,0] = -2\n",
    "print(a)"
   ]
  },
  {
   "cell_type": "markdown",
   "metadata": {},
   "source": [
    "#### Bool indexing\n",
    "\n",
    "Boolean array indexing lets you pick out arbitrary elements of an array. Frequently this type of indexing is used to select the elements of an array that satisfy some condition. "
   ]
  },
  {
   "cell_type": "code",
   "execution_count": 25,
   "metadata": {},
   "outputs": [
    {
     "name": "stdout",
     "output_type": "stream",
     "text": [
      "[[ 0  1  2  3  4  5  6  7  8  9 10 11 12 13 14 15 16 17 18 19]\n",
      " [20 21 22 23 24 25 26 27 28 29 30 31 32 33 34 35 36 37 38 39]\n",
      " [40 41 42 43 44 45 46 47 48 49 50 51 52 53 54 55 56 57 58 59]\n",
      " [60 61 62 63 64 65 66 67 68 69 70 71 72 73 74 75 76 77 78 79]\n",
      " [80 81 82 83 84 85 86 87 88 89 90 91 92 93 94 95 96 97 98 99]]\n"
     ]
    }
   ],
   "source": [
    "a = np.arange(100).reshape(5,20)\n",
    "print(a)"
   ]
  },
  {
   "cell_type": "code",
   "execution_count": 26,
   "metadata": {},
   "outputs": [
    {
     "name": "stdout",
     "output_type": "stream",
     "text": [
      "[[ True False  True False  True False  True False  True False  True False\n",
      "   True False  True False  True False  True False]\n",
      " [ True False  True False  True False  True False  True False  True False\n",
      "   True False  True False  True False  True False]\n",
      " [ True False  True False  True False  True False  True False  True False\n",
      "   True False  True False  True False  True False]\n",
      " [ True False  True False  True False  True False  True False  True False\n",
      "   True False  True False  True False  True False]\n",
      " [ True False  True False  True False  True False  True False  True False\n",
      "   True False  True False  True False  True False]]\n"
     ]
    }
   ],
   "source": [
    "# select the array element that is even\n",
    "target_idx = (a % 2 == 0)\n",
    "print(target_idx)"
   ]
  },
  {
   "cell_type": "code",
   "execution_count": 27,
   "metadata": {},
   "outputs": [
    {
     "name": "stdout",
     "output_type": "stream",
     "text": [
      "[ 0  2  4  6  8 10 12 14 16 18 20 22 24 26 28 30 32 34 36 38 40 42 44 46 48\n",
      " 50 52 54 56 58 60 62 64 66 68 70 72 74 76 78 80 82 84 86 88 90 92 94 96 98]\n"
     ]
    }
   ],
   "source": [
    "print(a[target_idx])"
   ]
  },
  {
   "cell_type": "code",
   "execution_count": 28,
   "metadata": {},
   "outputs": [
    {
     "name": "stdout",
     "output_type": "stream",
     "text": [
      "[ 0  2  4  6  8 10 12 14 16 18 20 22 24 26 28 30 32 34 36 38 40 42 44 46 48\n",
      " 50 52 54 56 58 60 62 64 66 68 70 72 74 76 78 80 82 84 86 88 90 92 94 96 98]\n"
     ]
    }
   ],
   "source": [
    "# we can also combine them together\n",
    "print(a[a % 2 == 0])"
   ]
  },
  {
   "cell_type": "markdown",
   "metadata": {},
   "source": [
    "### Array math\n",
    "Arithmetic operators on arrays apply elementwise. A new array is created and filled with the result."
   ]
  },
  {
   "cell_type": "code",
   "execution_count": 29,
   "metadata": {},
   "outputs": [
    {
     "name": "stdout",
     "output_type": "stream",
     "text": [
      "a: [1 2 3 4]\n",
      "b: [11 12 13 14]\n"
     ]
    }
   ],
   "source": [
    "a = np.arange(1,5)\n",
    "b = np.arange(11,15)\n",
    "print('a:', a)\n",
    "print('b:', b)"
   ]
  },
  {
   "cell_type": "code",
   "execution_count": 30,
   "metadata": {},
   "outputs": [
    {
     "name": "stdout",
     "output_type": "stream",
     "text": [
      "a+b: [12 14 16 18]\n",
      "a-b: [-10 -10 -10 -10]\n",
      "a*b: [11 24 39 56]\n",
      "a/b: [ 0.09090909  0.16666667  0.23076923  0.28571429]\n",
      "a**b: [        1      4096   1594323 268435456]\n"
     ]
    }
   ],
   "source": [
    "print('a+b:', a+b)\n",
    "print('a-b:', a-b)\n",
    "print('a*b:', a*b)\n",
    "print('a/b:', a/b)\n",
    "print('a**b:', a**b)"
   ]
  },
  {
   "cell_type": "code",
   "execution_count": 31,
   "metadata": {},
   "outputs": [
    {
     "name": "stdout",
     "output_type": "stream",
     "text": [
      "A:\n",
      " [[1 2]\n",
      " [3 4]]\n",
      "B:\n",
      " [[5 6]\n",
      " [7 8]]\n"
     ]
    }
   ],
   "source": [
    "# creating 2x2 matrix\n",
    "A = np.array(\n",
    "    [[1,2],\n",
    "     [3,4]]\n",
    ")\n",
    "B = np.array(\n",
    "    [[5,6],\n",
    "     [7,8]]\n",
    ")\n",
    "\n",
    "print('A:\\n', A)\n",
    "print('B:\\n', B)"
   ]
  },
  {
   "cell_type": "code",
   "execution_count": 32,
   "metadata": {},
   "outputs": [
    {
     "data": {
      "text/plain": [
       "array([[1, 3],\n",
       "       [2, 4]])"
      ]
     },
     "execution_count": 32,
     "metadata": {},
     "output_type": "execute_result"
    }
   ],
   "source": [
    "A.T # transponse"
   ]
  },
  {
   "cell_type": "code",
   "execution_count": 33,
   "metadata": {},
   "outputs": [
    {
     "data": {
      "text/plain": [
       "array([[ 5, 12],\n",
       "       [21, 32]])"
      ]
     },
     "execution_count": 33,
     "metadata": {},
     "output_type": "execute_result"
    }
   ],
   "source": [
    "A*B # elementwise product"
   ]
  },
  {
   "cell_type": "code",
   "execution_count": 34,
   "metadata": {},
   "outputs": [
    {
     "data": {
      "text/plain": [
       "array([[19, 22],\n",
       "       [43, 50]])"
      ]
     },
     "execution_count": 34,
     "metadata": {},
     "output_type": "execute_result"
    }
   ],
   "source": [
    "A.dot(B) # matrix product"
   ]
  },
  {
   "cell_type": "code",
   "execution_count": 35,
   "metadata": {},
   "outputs": [
    {
     "data": {
      "text/plain": [
       "array([[19, 22],\n",
       "       [43, 50]])"
      ]
     },
     "execution_count": 35,
     "metadata": {},
     "output_type": "execute_result"
    }
   ],
   "source": [
    "np.dot(A, B) # another matrix product"
   ]
  },
  {
   "cell_type": "code",
   "execution_count": 36,
   "metadata": {},
   "outputs": [
    {
     "name": "stdout",
     "output_type": "stream",
     "text": [
      "A:\n",
      " [[1 2]\n",
      " [3 4]]\n",
      "sum: 10\n"
     ]
    }
   ],
   "source": [
    "# sum the element in np array\n",
    "print('A:\\n', A)\n",
    "print('sum:',np.sum(A))"
   ]
  },
  {
   "cell_type": "code",
   "execution_count": 37,
   "metadata": {},
   "outputs": [
    {
     "name": "stdout",
     "output_type": "stream",
     "text": [
      "A:\n",
      " [[1 2]\n",
      " [3 4]]\n",
      "\n",
      "[4 6]\n"
     ]
    }
   ],
   "source": [
    "print('A:\\n', A)\n",
    "print()\n",
    "print(np.sum(A, axis=0)) # sum A along the first axis (i.e. column)"
   ]
  },
  {
   "cell_type": "code",
   "execution_count": 38,
   "metadata": {},
   "outputs": [
    {
     "name": "stdout",
     "output_type": "stream",
     "text": [
      "A:\n",
      " [[1 2]\n",
      " [3 4]]\n",
      "\n",
      "[3 7]\n"
     ]
    }
   ],
   "source": [
    "print('A:\\n', A)\n",
    "print()\n",
    "# sum A along the second axis (i.e. row)\n",
    "print(np.sum(A, axis=1)) "
   ]
  },
  {
   "cell_type": "markdown",
   "metadata": {},
   "source": [
    "### Broadcasting\n",
    "Broadcasting describes how numpy treats arrays with different shapes during arithmetic operations. Subject to certain constraints, the smaller array is “broadcast” across the larger array so that they have compatible shapes."
   ]
  },
  {
   "cell_type": "code",
   "execution_count": 39,
   "metadata": {},
   "outputs": [
    {
     "name": "stdout",
     "output_type": "stream",
     "text": [
      "[[0 1 2 3 4]\n",
      " [5 6 7 8 9]]\n"
     ]
    }
   ],
   "source": [
    "a = np.arange(10).reshape(2,5)\n",
    "print(a)"
   ]
  },
  {
   "cell_type": "code",
   "execution_count": 40,
   "metadata": {},
   "outputs": [
    {
     "data": {
      "text/plain": [
       "array([[ 0, 10, 20, 30, 40],\n",
       "       [50, 60, 70, 80, 90]])"
      ]
     },
     "execution_count": 40,
     "metadata": {},
     "output_type": "execute_result"
    }
   ],
   "source": [
    "10*a"
   ]
  },
  {
   "cell_type": "markdown",
   "metadata": {},
   "source": [
    "It is broadcasting :)\n",
    "\n",
    "10 is just a single integer. It is boardcast to an array with shape (2,5) that filled with 10.\n",
    "```\n",
    "[[10, 10, 10, 10, 10],\n",
    " [10, 10, 10, 10, 10]]\n",
    "```\n",
    "Then, the elementwise operation is applied."
   ]
  },
  {
   "cell_type": "code",
   "execution_count": 41,
   "metadata": {},
   "outputs": [
    {
     "data": {
      "text/plain": [
       "array([[ 0,  1,  2,  3],\n",
       "       [ 4,  5,  6,  7],\n",
       "       [ 8,  9, 10, 11],\n",
       "       [12, 13, 14, 15],\n",
       "       [16, 17, 18, 19],\n",
       "       [20, 21, 22, 23],\n",
       "       [24, 25, 26, 27],\n",
       "       [28, 29, 30, 31],\n",
       "       [32, 33, 34, 35],\n",
       "       [36, 37, 38, 39],\n",
       "       [40, 41, 42, 43],\n",
       "       [44, 45, 46, 47],\n",
       "       [48, 49, 50, 51],\n",
       "       [52, 53, 54, 55],\n",
       "       [56, 57, 58, 59],\n",
       "       [60, 61, 62, 63],\n",
       "       [64, 65, 66, 67],\n",
       "       [68, 69, 70, 71],\n",
       "       [72, 73, 74, 75],\n",
       "       [76, 77, 78, 79],\n",
       "       [80, 81, 82, 83],\n",
       "       [84, 85, 86, 87],\n",
       "       [88, 89, 90, 91],\n",
       "       [92, 93, 94, 95],\n",
       "       [96, 97, 98, 99]])"
      ]
     },
     "execution_count": 41,
     "metadata": {},
     "output_type": "execute_result"
    }
   ],
   "source": [
    "a = np.arange(100).reshape(25,4)\n",
    "a"
   ]
  },
  {
   "cell_type": "code",
   "execution_count": 42,
   "metadata": {},
   "outputs": [
    {
     "data": {
      "text/plain": [
       "array([4, 2, 1, 1])"
      ]
     },
     "execution_count": 42,
     "metadata": {},
     "output_type": "execute_result"
    }
   ],
   "source": [
    "b = np.array([4,2,1,1])\n",
    "b"
   ]
  },
  {
   "cell_type": "code",
   "execution_count": 43,
   "metadata": {},
   "outputs": [
    {
     "data": {
      "text/plain": [
       "array([[  4,   3,   3,   4],\n",
       "       [  8,   7,   7,   8],\n",
       "       [ 12,  11,  11,  12],\n",
       "       [ 16,  15,  15,  16],\n",
       "       [ 20,  19,  19,  20],\n",
       "       [ 24,  23,  23,  24],\n",
       "       [ 28,  27,  27,  28],\n",
       "       [ 32,  31,  31,  32],\n",
       "       [ 36,  35,  35,  36],\n",
       "       [ 40,  39,  39,  40],\n",
       "       [ 44,  43,  43,  44],\n",
       "       [ 48,  47,  47,  48],\n",
       "       [ 52,  51,  51,  52],\n",
       "       [ 56,  55,  55,  56],\n",
       "       [ 60,  59,  59,  60],\n",
       "       [ 64,  63,  63,  64],\n",
       "       [ 68,  67,  67,  68],\n",
       "       [ 72,  71,  71,  72],\n",
       "       [ 76,  75,  75,  76],\n",
       "       [ 80,  79,  79,  80],\n",
       "       [ 84,  83,  83,  84],\n",
       "       [ 88,  87,  87,  88],\n",
       "       [ 92,  91,  91,  92],\n",
       "       [ 96,  95,  95,  96],\n",
       "       [100,  99,  99, 100]])"
      ]
     },
     "execution_count": 43,
     "metadata": {},
     "output_type": "execute_result"
    }
   ],
   "source": [
    "a+b"
   ]
  },
  {
   "cell_type": "markdown",
   "metadata": {},
   "source": [
    "### Boardcasting occurs only when two array are compatible\n",
    "\n",
    "Compatible means the dimensions of the arrays are\n",
    "    1. the same\n",
    "    2. one of them is 1\n",
    "    \n",
    "For example, the following can be boardcast\n",
    "```python\n",
    "A      (2d array):  5 x 4\n",
    "B      (1d array):      1\n",
    "Result (2d array):  5 x 4\n",
    "\n",
    "A      (2d array):  5 x 4\n",
    "B      (1d array):      4\n",
    "Result (2d array):  5 x 4\n",
    "\n",
    "A      (3d array):  15 x 3 x 5\n",
    "B      (3d array):  15 x 1 x 5\n",
    "Result (3d array):  15 x 3 x 5\n",
    "\n",
    "A      (3d array):  15 x 3 x 5\n",
    "B      (2d array):       3 x 5\n",
    "Result (3d array):  15 x 3 x 5\n",
    "\n",
    "A      (3d array):  15 x 3 x 5\n",
    "B      (2d array):       3 x 1\n",
    "Result (3d array):  15 x 3 x 5\n",
    "\n",
    "A      (4d array):  8 x 1 x 6 x 1\n",
    "B      (3d array):      7 x 1 x 5\n",
    "Result (4d array):  8 x 7 x 6 x 5\n",
    "```\n",
    "\n",
    "The following cannot be boardcast\n",
    "```python\n",
    "A      (1d array):  3\n",
    "B      (1d array):  4 # trailing dimensions do not match\n",
    "\n",
    "A      (2d array):      2 x 1\n",
    "B      (3d array):  8 x 4 x 3 # second from last dimensions mismatched\n",
    "```"
   ]
  },
  {
   "cell_type": "code",
   "execution_count": 44,
   "metadata": {},
   "outputs": [
    {
     "name": "stdout",
     "output_type": "stream",
     "text": [
      "a:\n",
      "[[[ 0  1  2  3]\n",
      "  [ 4  5  6  7]\n",
      "  [ 8  9 10 11]]\n",
      "\n",
      " [[12 13 14 15]\n",
      "  [16 17 18 19]\n",
      "  [20 21 22 23]]] \n",
      "\n",
      "b:\n",
      "[[[0 1 0 1]]\n",
      "\n",
      " [[1 0 0 1]]]\n"
     ]
    }
   ],
   "source": [
    "a = np.arange(2*3*4).reshape((2,3,4))\n",
    "b = np.random.randint(low=0, high=2, size=(2,1,4)) # create a random array with 0 and 1 of shape (2,1,4)\n",
    "print('a:\\n{} \\n\\nb:\\n{}'.format(a,b))"
   ]
  },
  {
   "cell_type": "code",
   "execution_count": 45,
   "metadata": {},
   "outputs": [
    {
     "data": {
      "text/plain": [
       "array([[[ 0,  1,  0,  3],\n",
       "        [ 0,  5,  0,  7],\n",
       "        [ 0,  9,  0, 11]],\n",
       "\n",
       "       [[12,  0,  0, 15],\n",
       "        [16,  0,  0, 19],\n",
       "        [20,  0,  0, 23]]])"
      ]
     },
     "execution_count": 45,
     "metadata": {},
     "output_type": "execute_result"
    }
   ],
   "source": [
    "a * b"
   ]
  },
  {
   "cell_type": "code",
   "execution_count": null,
   "metadata": {
    "collapsed": true
   },
   "outputs": [],
   "source": []
  }
 ],
 "metadata": {
  "kernelspec": {
   "display_name": "Python 3",
   "language": "python",
   "name": "python3"
  },
  "language_info": {
   "codemirror_mode": {
    "name": "ipython",
    "version": 3
   },
   "file_extension": ".py",
   "mimetype": "text/x-python",
   "name": "python",
   "nbconvert_exporter": "python",
   "pygments_lexer": "ipython3",
   "version": "3.6.2"
  }
 },
 "nbformat": 4,
 "nbformat_minor": 2
}
