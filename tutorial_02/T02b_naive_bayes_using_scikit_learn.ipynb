{
 "cells": [
  {
   "cell_type": "markdown",
   "metadata": {},
   "source": [
    "This jupyter notebook is prepared by [Chun-Kit Yeung](https://ckyeungac.com)\n",
    "\n",
    "# Introduction\n",
    "This tutorial proceeds from the previous tutorial in Numpy. In this tutorials, we are going to show you the general machine learning workflow using scikit-learn with an example of the iris classification problem.\n",
    "\n",
    "Before dive into the details of scikit-learn, let me talk about what is the goal of iris classification problem. The goal of the iris classification problem is to find a machine learning model $h(\\cdot)$ to predict whether a given sample $\\mathbf{x}$ is an iris or not, i.e. $y \\in \\{0, 1, 2\\}$, where the value indicates the type of iris (which will be explained later on).\n",
    "\n",
    "Specifically, we are going to select a supervised machine learning model $h(\\cdot)$ which maps an input sample $\\mathbf{x} = (x_1, x_2, \\dots, x_n)$ to an output $y$. That is $y = h(\\mathbf{x})$ (you can view it as a math function.) Different machine learning algorithms have different approaches in finding such the model $h(\\cdot)$. \n",
    "\n",
    "So, before starting any of the machine leanring project, it is very important to identify the features $\\mathbf{x}$ that are being used, and the output label $y$ that we are going to predict.\n",
    "\n",
    "\n",
    "First and foremost, let's import the packages required in this library."
   ]
  },
  {
   "cell_type": "code",
   "execution_count": 7,
   "metadata": {},
   "outputs": [
    {
     "name": "stdout",
     "output_type": "stream",
     "text": [
      "numpy version: 1.12.1\n",
      "scikit-learn version: 0.18.1\n",
      "matplotlib version: 2.0.2\n"
     ]
    }
   ],
   "source": [
    "import numpy as np\n",
    "import sklearn \n",
    "import matplotlib\n",
    "import matplotlib.pyplot as plt\n",
    "\n",
    "# tell the jupyter notebook that plot the diagram directly in the output\n",
    "%matplotlib inline \n",
    "    \n",
    "print ('numpy version:', np.__version__)\n",
    "print ('scikit-learn version:', sklearn.__version__)\n",
    "print ('matplotlib version:', matplotlib.__version__)"
   ]
  },
  {
   "cell_type": "code",
   "execution_count": 8,
   "metadata": {
    "collapsed": true
   },
   "outputs": [],
   "source": [
    "def printsep():\n",
    "    \"\"\"\n",
    "    A handy function to print out a separate line\n",
    "    \"\"\"\n",
    "    print('='*30)"
   ]
  },
  {
   "cell_type": "markdown",
   "metadata": {},
   "source": [
    "# Dataset\n",
    "Scikit-learn includes a few well-known datasets. The Iris flower dataset includes information about 150 instances from three different Iris flower species, including sepal and petal length and width. The natural task to solve using this dataset is to learn to guess the Iris species knowing the sepal and petal measures."
   ]
  },
  {
   "cell_type": "code",
   "execution_count": 9,
   "metadata": {
    "collapsed": true
   },
   "outputs": [],
   "source": [
    "from sklearn import datasets\n",
    "iris = datasets.load_iris() # loading the iris dataset"
   ]
  },
  {
   "cell_type": "code",
   "execution_count": 10,
   "metadata": {},
   "outputs": [
    {
     "data": {
      "text/plain": [
       "['DESCR', 'data', 'feature_names', 'target', 'target_names']"
      ]
     },
     "execution_count": 10,
     "metadata": {},
     "output_type": "execute_result"
    }
   ],
   "source": [
    "dir(iris)"
   ]
  },
  {
   "cell_type": "markdown",
   "metadata": {},
   "source": [
    "As you can see, `iris` contains 5 \"types\" of data that we can access. Let me briefly explain them:\n",
    "+ 'DESCR': it is the description of the dataset\n",
    "+ 'data': it is the features of the dataset\n",
    "+ 'feature_names': it is the name of the features\n",
    "+ 'target': it is the output labels\n",
    "+ 'target_names': it is the name of the output labels"
   ]
  },
  {
   "cell_type": "code",
   "execution_count": 11,
   "metadata": {
    "collapsed": true
   },
   "outputs": [],
   "source": [
    "X_iris = iris.data\n",
    "y_iris = iris.target"
   ]
  },
  {
   "cell_type": "code",
   "execution_count": 12,
   "metadata": {},
   "outputs": [
    {
     "data": {
      "text/plain": [
       "numpy.ndarray"
      ]
     },
     "execution_count": 12,
     "metadata": {},
     "output_type": "execute_result"
    }
   ],
   "source": [
    "type(X_iris) # the data is stored in an numpy array"
   ]
  },
  {
   "cell_type": "code",
   "execution_count": 13,
   "metadata": {},
   "outputs": [
    {
     "name": "stdout",
     "output_type": "stream",
     "text": [
      "The shape of input features: (150, 4)\n",
      "The shape of output labels: (150,)\n",
      "==============================\n",
      "Feature names: ['sepal length (cm)', 'sepal width (cm)', 'petal length (cm)', 'petal width (cm)']\n",
      "First instance features: [ 5.1  3.5  1.4  0.2]\n",
      "==============================\n",
      "Target classes: ['setosa' 'versicolor' 'virginica']\n",
      "Target classes values: {0, 1, 2}\n"
     ]
    }
   ],
   "source": [
    "print('The shape of input features: {0}'.format(X_iris.shape))\n",
    "print('The shape of output labels: {0}'.format(y_iris.shape))\n",
    "printsep()\n",
    "print('Feature names: {0}'.format(iris.feature_names))\n",
    "print('First instance features: {0}'.format(X_iris[0]))\n",
    "printsep()\n",
    "print('Target classes: {0}'.format(iris.target_names))\n",
    "print('Target classes values: {}'.format(set(iris.target)))"
   ]
  },
  {
   "cell_type": "markdown",
   "metadata": {},
   "source": [
    "The above code give you a brief understanding about the dataset.\n",
    "\n",
    "`The shape of input features: (150, 4)` means that there are 150 samples and each with 4 features.\n",
    "\n",
    "The namse of the four features are shown in `Feature names: ['sepal length (cm)', 'sepal width (cm)', 'petal length (cm)', 'petal width (cm)']`.\n",
    "\n",
    "The output labels $y \\in \\{0, 1, 2\\}$ each representing the type of iris - `['setosa' 'versicolor' 'virginica']`"
   ]
  },
  {
   "cell_type": "markdown",
   "metadata": {},
   "source": [
    "**To better understand the data, we also visualize the features with diagram.**"
   ]
  },
  {
   "cell_type": "code",
   "execution_count": 14,
   "metadata": {},
   "outputs": [
    {
     "data": {
      "image/png": "[encoded data removed]",
      "text/plain": [
       "<matplotlib.figure.Figure at 0x112c789e8>"
      ]
     },
     "metadata": {},
     "output_type": "display_data"
    },
    {
     "data": {
      "image/png": "[encoded data removed]",
      "text/plain": [
       "<matplotlib.figure.Figure at 0x112f6e978>"
      ]
     },
     "metadata": {},
     "output_type": "display_data"
    }
   ],
   "source": [
    "plt.figure('sepal')\n",
    "colormarkers = [ ['red','s'], ['greenyellow','o'], ['blue','x']]\n",
    "for i in range(len(colormarkers)):\n",
    "    px = X_iris[:, 0][y_iris == i]\n",
    "    py = X_iris[:, 1][y_iris == i]\n",
    "    plt.scatter(px, py, c=colormarkers[i][0], marker=colormarkers[i][1])\n",
    "\n",
    "plt.title('Iris Dataset: Sepal width vs sepal length')\n",
    "plt.legend(iris.target_names)\n",
    "plt.xlabel('Sepal length')\n",
    "plt.ylabel('Sepal width')\n",
    "plt.figure('petal')\n",
    "\n",
    "for i in range(len(colormarkers)):\n",
    "    px = X_iris[:, 2][y_iris == i]\n",
    "    py = X_iris[:, 3][y_iris == i]\n",
    "    plt.scatter(px, py, c=colormarkers[i][0], marker=colormarkers[i][1])\n",
    "\n",
    "plt.title('Iris Dataset: petal width vs petal length')\n",
    "plt.legend(iris.target_names)\n",
    "plt.xlabel('Petal length')\n",
    "plt.ylabel('Petal width')\n",
    "plt.show()"
   ]
  },
  {
   "cell_type": "markdown",
   "metadata": {},
   "source": [
    "# Prepare the training data and testing data\n",
    "Now, the data is ready and we have a basic understanding about it. The second stage in machine learning is constructing a predictive model consists of training and testing. We'll use our data to train the model, and then we'll test the model to see how closely it is able to predict the label.\n",
    "\n",
    "Yet, we only have one dataset, how could we have one dataset for training and one dataset for testing? So, our first step will be to separate the dataset into to separate sets, using 80% of the instances for training our classifier, and the remaining 20% for testing it. Scikit-learn provides a handy library in doing so:\n",
    "\n",
    "```\n",
    "train_test_split(*arrays, **options)\n",
    "====\n",
    "*arrays: \n",
    "    type: sequence of indexables with same length / shape[0]\n",
    "    dscr: Allowed inputs are lists, numpy arrays, scipy-sparse matrices or pandas dataframes.\n",
    "test_size: \n",
    "    type: float, int, None, optional\n",
    "    dscr: By default, the value is set to 0.25, indicating that 25% of the data used in the test set.\n",
    "random_state: \n",
    "    type: int, RandomState instance or None, optional (default=None)\n",
    "    dscr: If int, random_state is the seed used by the random number generator.\n",
    "shuffle: \n",
    "    type: boolean, optional (default=True)\n",
    "    dscr: Whether or not to shuffle the data before splitting. If shuffle=False then stratify must be None.\n",
    "stratify: \n",
    "    type: array-like or None (default is None)\n",
    "    dscr: If not None, data is split in a stratified fashion, using this as the class labels.\n",
    "====\n",
    "```"
   ]
  },
  {
   "cell_type": "code",
   "execution_count": 8,
   "metadata": {
    "collapsed": true
   },
   "outputs": [],
   "source": [
    "# Todo: import the library"
   ]
  },
  {
   "cell_type": "code",
   "execution_count": 9,
   "metadata": {
    "collapsed": true
   },
   "outputs": [],
   "source": [
    "# Todo: split the dataset"
   ]
  },
  {
   "cell_type": "code",
   "execution_count": 10,
   "metadata": {},
   "outputs": [
    {
     "data": {
      "text/plain": [
       "((120, 4), (30, 4), (120,), (30,))"
      ]
     },
     "execution_count": 10,
     "metadata": {},
     "output_type": "execute_result"
    }
   ],
   "source": [
    "# Todo: print out the final shape of the train set and test set\n"
   ]
  },
  {
   "cell_type": "markdown",
   "metadata": {},
   "source": [
    "# Use Naive Bayes Classifier\n",
    "We use the multinomial naive Bayes classifier from scikit-learn.\n",
    "\n",
    "```\n",
    "MultinomialNB(alpha=1.0, fit_prior=True, class_prior=None)\n",
    "====\n",
    "alpha: \n",
    "    type: float, optional (default=1.0)\n",
    "    dscr: Additive (Laplace/Lidstone) smoothing parameter (0 for no smoothing).\n",
    "\n",
    "fit_prior: \n",
    "    type: boolean, optional (default=True)\n",
    "    dscr: Whether to learn class prior probabilities or not. If false, a uniform prior will be used.\n",
    "\n",
    "class_prior: \n",
    "    type: array-like, size (n_classes,), optional (default=None)\n",
    "    dscr: Prior probabilities of the classes. If specified the priors are not adjusted according to the data.\n",
    "====\n",
    "```\n"
   ]
  },
  {
   "cell_type": "code",
   "execution_count": 15,
   "metadata": {
    "collapsed": true
   },
   "outputs": [],
   "source": [
    "# Todo: import the naive Bayes classifier\n"
   ]
  },
  {
   "cell_type": "code",
   "execution_count": null,
   "metadata": {
    "collapsed": true
   },
   "outputs": [],
   "source": [
    "# Todo: instantiate the classifer\n"
   ]
  },
  {
   "cell_type": "markdown",
   "metadata": {},
   "source": [
    "## Training"
   ]
  },
  {
   "cell_type": "code",
   "execution_count": 16,
   "metadata": {
    "collapsed": true
   },
   "outputs": [],
   "source": [
    "# Todo: call the fit() method to train the classifier\n"
   ]
  },
  {
   "cell_type": "markdown",
   "metadata": {},
   "source": [
    "## Testing"
   ]
  },
  {
   "cell_type": "markdown",
   "metadata": {},
   "source": [
    "We are going to test our model, the evaluation measure we used here is **accuracy**. Yet it is a multi-class problem, how do we going to find the accuracy?"
   ]
  },
  {
   "cell_type": "code",
   "execution_count": 17,
   "metadata": {
    "collapsed": true
   },
   "outputs": [],
   "source": [
    "def accuracy(y_true, y_pred):\n",
    "    \"\"\"\n",
    "    This function return the accuracy score.\n",
    "    \n",
    "    :type y_true: list, list of ground true labels\n",
    "    :type y_pred: list, list of predicted labels\n",
    "    :rtype: float, accuracy score of the model\n",
    "    \"\"\"\n",
    "    acc = None\n",
    "    \n",
    "    # Todo: implement the function to find the accuracy\n",
    "    \n",
    "    return acc"
   ]
  },
  {
   "cell_type": "code",
   "execution_count": 19,
   "metadata": {
    "collapsed": true
   },
   "outputs": [],
   "source": [
    "# Todo: find the accuracy for the training set\n"
   ]
  },
  {
   "cell_type": "code",
   "execution_count": null,
   "metadata": {
    "collapsed": true
   },
   "outputs": [],
   "source": [
    "# Todo: find the accuracy for the test set\n"
   ]
  },
  {
   "cell_type": "markdown",
   "metadata": {},
   "source": [
    "# Take home exercise\n",
    "Implement naive Bayes yourself to get the prior, likelihood, and posterior probablities.\n",
    "\n",
    "Below is a template for you to work on:)"
   ]
  },
  {
   "cell_type": "code",
   "execution_count": 50,
   "metadata": {
    "collapsed": true
   },
   "outputs": [],
   "source": [
    "from collections import Counter\n",
    "\n",
    "class NaiveBayes(object):\n",
    "    def __init__(self, X, y, feature_names=None, target_names_dict=None):\n",
    "        \"\"\"\n",
    "        It is the constructor for the class object in python.\n",
    "        :type X: numpy 2d-array\n",
    "        :type y: numpy 1d-array\n",
    "        :features_name: list, the features name for X\n",
    "        :target_names_dict: dict, the mapping from value in y to the target name\n",
    "        \"\"\"\n",
    "        # assure the input is valid\n",
    "        # assert <condition>, <the message that going to print out when the condition is False>\n",
    "        assert (type(X) == np.ndarray and X.ndim == 2), \"the input 'X' is not in a 2d array\"\n",
    "        assert (len(feature_names) == X.shape[1]), \"the number of features in 'features_name' and 'X' does not match\"\n",
    "        # You can add more assertion, but here we assume the user won't make mistake\n",
    "        \n",
    "        self.X = X\n",
    "        self.y = y\n",
    "        \n",
    "        self.feature_names = feature_names\n",
    "        if feature_names is None:\n",
    "            self.feature_names = [str(i) for i in range(X.shape[1])]\n",
    "            \n",
    "        self.target_names_dict = target_names_dict\n",
    "        if target_names_dict is None or type(target_names_dict) is not dict:\n",
    "            self.target_names_dict = dict()\n",
    "    \n",
    "    def calculate_prior(self):\n",
    "        \"\"\"\n",
    "        This function will return the prior probability of each label\n",
    "        \n",
    "        :rtype: dict\n",
    "        \"\"\"\n",
    "        num_samples = self.y.shape[0]\n",
    "        \n",
    "        # Using Counter to count the occurance of each value in y \n",
    "        # Convert it to dict for later calculation\n",
    "        relative_occurences = dict(Counter(self.y))\n",
    "        \n",
    "        prior = dict()\n",
    "        for key in relative_occurences.keys():\n",
    "            # dict.get(a, b): if a is the key in dict, return dict[a], otherwise, return b\n",
    "            label = self.target_names_dict.get(key, key)\n",
    "            \n",
    "            # find the prior for each label\n",
    "            prior[label] = relative_occurences[key]/num_samples\n",
    "            \n",
    "        return prior\n",
    "    \n",
    "    def calculate_likelihood(self):\n",
    "        # Todo\n",
    "        pass\n",
    "    \n",
    "    def make_prediction(self, x):\n",
    "        # Todo\n",
    "        pass"
   ]
  },
  {
   "cell_type": "code",
   "execution_count": 54,
   "metadata": {
    "collapsed": true
   },
   "outputs": [],
   "source": [
    "# build the iris target name dict, dict[<label_value>] = <label_name>\n",
    "iris_target_name_dict = dict()\n",
    "iris_target_name_dict[0] = 'setosa'\n",
    "iris_target_name_dict[1] = 'versicolor'\n",
    "iris_target_name_dict[2] = 'virginica'\n",
    "\n",
    "nb = NaiveBayes(\n",
    "    X=X_iris, \n",
    "    y=y_iris, \n",
    "    feature_names=iris.feature_names, \n",
    "    target_names_dict=iris_target_name_dict)"
   ]
  },
  {
   "cell_type": "code",
   "execution_count": 55,
   "metadata": {},
   "outputs": [
    {
     "data": {
      "text/plain": [
       "{'setosa': 0.3333333333333333,\n",
       " 'versicolor': 0.3333333333333333,\n",
       " 'virginica': 0.3333333333333333}"
      ]
     },
     "execution_count": 55,
     "metadata": {},
     "output_type": "execute_result"
    }
   ],
   "source": [
    "nb.calculate_prior()"
   ]
  },
  {
   "cell_type": "markdown",
   "metadata": {
    "collapsed": true
   },
   "source": [
    "# Further Reading\n",
    "1. Youtube video of [*The 7 Steps of Machine Learning*](https://www.youtube.com/watch?v=nKW8Ndu7Mjw)\n",
    "2. Scikit-learn documentation of [*Naive Bayes*](http://scikit-learn.org/stable/modules/naive_bayes.html)"
   ]
  }
 ],
 "metadata": {
  "kernelspec": {
   "display_name": "Python 3",
   "language": "python",
   "name": "python3"
  },
  "language_info": {
   "codemirror_mode": {
    "name": "ipython",
    "version": 3
   },
   "file_extension": ".py",
   "mimetype": "text/x-python",
   "name": "python",
   "nbconvert_exporter": "python",
   "pygments_lexer": "ipython3",
   "version": "3.6.1"
  }
 },
 "nbformat": 4,
 "nbformat_minor": 1
}
