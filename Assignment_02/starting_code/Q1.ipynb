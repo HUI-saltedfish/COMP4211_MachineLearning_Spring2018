{
 "cells": [
  {
   "cell_type": "code",
   "execution_count": 2,
   "metadata": {
    "collapsed": true
   },
   "outputs": [],
   "source": [
    "%matplotlib inline\n",
    "import matplotlib.pyplot as plt\n",
    "import tensorflow as tf\n",
    "import numpy as np\n",
    "from sklearn.metrics import confusion_matrix\n",
    "import time\n",
    "from datetime import timedelta\n",
    "import math"
   ]
  },
  {
   "cell_type": "code",
   "execution_count": 3,
   "metadata": {
    "collapsed": false
   },
   "outputs": [
    {
     "name": "stdout",
     "output_type": "stream",
     "text": [
      "Extracting data/MNIST/train-images-idx3-ubyte.gz\n",
      "Extracting data/MNIST/train-labels-idx1-ubyte.gz\n",
      "Extracting data/MNIST/t10k-images-idx3-ubyte.gz\n",
      "Extracting data/MNIST/t10k-labels-idx1-ubyte.gz\n"
     ]
    }
   ],
   "source": [
    "from tensorflow.examples.tutorials.mnist import input_data\n",
    "data = input_data.read_data_sets('data/MNIST/', one_hot=True)\n",
    "data.test.cls = np.argmax(data.test.labels, axis=1)"
   ]
  },
  {
   "cell_type": "code",
   "execution_count": 4,
   "metadata": {
    "collapsed": true
   },
   "outputs": [],
   "source": [
    "# Data Dimensions\n",
    "img_size = 28\n",
    "img_size_flat = img_size * img_size\n",
    "img_shape = (img_size, img_size)\n",
    "num_channels = 1\n",
    "num_classes = 10"
   ]
  },
  {
   "cell_type": "code",
   "execution_count": 5,
   "metadata": {
    "collapsed": true
   },
   "outputs": [],
   "source": [
    "x = tf.placeholder(tf.float32, shape=[None, img_size_flat], name='x')\n",
    "y_true = tf.placeholder(tf.float32, shape=[None, num_classes], name='y_true')\n",
    "y_true_cls = tf.argmax(y_true, axis=1)"
   ]
  },
  {
   "cell_type": "code",
   "execution_count": 6,
   "metadata": {
    "collapsed": true
   },
   "outputs": [],
   "source": [
    "def cnn_model_fn(x):\n",
    "    \"\"\"Model function for CNN.\"\"\"\n",
    "    x_image = tf.reshape(x, [-1, 28, 28, 1])\n",
    "\n",
    "    conv1 = tf.layers.conv2d(\n",
    "        inputs=x_image,\n",
    "        filters=16,\n",
    "        kernel_size=[2, 2],\n",
    "        padding=\"same\",\n",
    "        activation=tf.nn.relu\n",
    "    )\n",
    "\n",
    "    pool1 = tf.layers.max_pooling2d(\n",
    "        inputs=conv1, \n",
    "        pool_size=[2, 2], \n",
    "        strides=2\n",
    "    )\n",
    "\n",
    "    conv2 = tf.layers.conv2d(\n",
    "          inputs=pool1,\n",
    "          filters=32,\n",
    "          kernel_size=[2, 2],\n",
    "          padding=\"same\",\n",
    "          activation=tf.nn.relu\n",
    "    )\n",
    "    \n",
    "    pool2 = tf.layers.max_pooling2d(\n",
    "        inputs=conv2, \n",
    "        pool_size=[2, 2], \n",
    "        strides=2\n",
    "    )\n",
    "    \n",
    "    # flatten the layer\n",
    "    layer_shape = pool2.get_shape()\n",
    "    num_features = layer_shape[1:4].num_elements()\n",
    "    layer_flat = tf.reshape(pool2, [-1, num_features])\n",
    "    \n",
    "    # fully connect layer\n",
    "    fc1 = tf.layers.dense(\n",
    "        inputs=layer_flat, \n",
    "        units=256, \n",
    "        activation=tf.nn.relu\n",
    "    )\n",
    "\n",
    "    logits = tf.layers.dense(\n",
    "        inputs=fc1, \n",
    "        units=num_classes\n",
    "    )\n",
    "\n",
    "    return logits"
   ]
  },
  {
   "cell_type": "code",
   "execution_count": 7,
   "metadata": {
    "collapsed": true
   },
   "outputs": [],
   "source": [
    "# cost function\n",
    "y_pred = cnn_model_fn(x)\n",
    "\n",
    "cost = tf.losses.mean_squared_error(\n",
    "    labels=y_true,\n",
    "    predictions=y_pred\n",
    ")\n",
    "\n",
    "# optimizer\n",
    "optimizer = tf.train.AdamOptimizer(learning_rate=1e-3).minimize(cost)\n",
    "\n",
    "# Calculate accuracy\n",
    "y_pred_cls = tf.argmax(y_pred, 1)\n",
    "correct_prediction = tf.equal(y_pred_cls, tf.argmax(y_true, 1))\n",
    "accuracy = tf.reduce_mean(tf.cast(correct_prediction, tf.float32))"
   ]
  },
  {
   "cell_type": "code",
   "execution_count": 10,
   "metadata": {
    "collapsed": true
   },
   "outputs": [],
   "source": [
    "sess = tf.Session()"
   ]
  },
  {
   "cell_type": "code",
   "execution_count": 11,
   "metadata": {
    "collapsed": true
   },
   "outputs": [],
   "source": [
    "sess.run(tf.global_variables_initializer())"
   ]
  },
  {
   "cell_type": "code",
   "execution_count": 12,
   "metadata": {
    "collapsed": true
   },
   "outputs": [],
   "source": [
    "train_batch_size = 100\n",
    "\n",
    "def optimize(num_epochs):\n",
    "    num_batches = len(data.train.labels)//100\n",
    "    start_time = time.time()\n",
    "    \n",
    "    for i in range(num_epochs):\n",
    "        train_acc = []\n",
    "        for _ in range(num_batches):\n",
    "            x_batch, y_true_batch = data.train.next_batch(train_batch_size)\n",
    "\n",
    "            feed_dict_train = {\n",
    "                x: x_batch,\n",
    "                y_true: y_true_batch\n",
    "            }\n",
    "            batch_acc, _ = sess.run([accuracy, optimizer], feed_dict=feed_dict_train)\n",
    "            train_acc.append(batch_acc)\n",
    "        print(\"Epoch {}, Train accuracy: {:>6.1%}\".format(i, np.mean(train_acc)))\n",
    "        if i%5 == 0:\n",
    "            print_test_accuracy()\n",
    "\n",
    "    end_time = time.time()\n",
    "    time_dif = end_time - start_time\n",
    "    print(\"Time usage: \" + str(timedelta(seconds=int(round(time_dif)))))\n",
    "    \n",
    "# Split the test-set into smaller batches of this size.\n",
    "test_batch_size = 100\n",
    "\n",
    "def print_test_accuracy():\n",
    "    num_batches = len(data.test.labels)//100\n",
    "    test_acc = []\n",
    "    for _ in range(num_batches):\n",
    "        x_batch, y_true_batch = data.test.next_batch(train_batch_size)\n",
    "        feed_dict_test = {\n",
    "            x: x_batch,\n",
    "            y_true: y_true_batch\n",
    "        }\n",
    "        \n",
    "        batch_acc = sess.run(accuracy, feed_dict=feed_dict_test)\n",
    "        test_acc.append(batch_acc)\n",
    "    print(\"Test accuracy: {:>6.1%}\".format(np.mean(test_acc)))"
   ]
  },
  {
   "cell_type": "code",
   "execution_count": 13,
   "metadata": {
    "collapsed": false
   },
   "outputs": [
    {
     "name": "stdout",
     "output_type": "stream",
     "text": [
      "Test accuracy:  12.8%\n"
     ]
    }
   ],
   "source": [
    "print_test_accuracy()"
   ]
  },
  {
   "cell_type": "code",
   "execution_count": 14,
   "metadata": {
    "collapsed": false
   },
   "outputs": [
    {
     "name": "stdout",
     "output_type": "stream",
     "text": [
      "Epoch 0, Train accuracy:  95.0%\n",
      "Test accuracy:  98.4%\n",
      "Epoch 1, Train accuracy:  98.6%\n",
      "Epoch 2, Train accuracy:  99.1%\n",
      "Epoch 3, Train accuracy:  99.2%\n",
      "Epoch 4, Train accuracy:  99.4%\n",
      "Epoch 5, Train accuracy:  99.5%\n",
      "Test accuracy:  99.1%\n",
      "Epoch 6, Train accuracy:  99.6%\n",
      "Epoch 7, Train accuracy:  99.7%\n",
      "Epoch 8, Train accuracy:  99.7%\n",
      "Epoch 9, Train accuracy:  99.8%\n",
      "Time usage: 0:02:54\n",
      "==============================\n",
      "Test accuracy:  99.1%\n"
     ]
    }
   ],
   "source": [
    "optimize(num_epochs=10)\n",
    "print('='*30)\n",
    "print_test_accuracy()"
   ]
  },
  {
   "cell_type": "code",
   "execution_count": null,
   "metadata": {
    "collapsed": true
   },
   "outputs": [],
   "source": [
    "data.train.size"
   ]
  },
  {
   "cell_type": "code",
   "execution_count": null,
   "metadata": {
    "collapsed": true
   },
   "outputs": [],
   "source": [
    "dir(data.test)"
   ]
  },
  {
   "cell_type": "code",
   "execution_count": null,
   "metadata": {
    "collapsed": true
   },
   "outputs": [],
   "source": []
  }
 ],
 "metadata": {
  "kernelspec": {
   "display_name": "Python 2",
   "language": "python",
   "name": "python2"
  },
  "language_info": {
   "codemirror_mode": {
    "name": "ipython",
    "version": 2
   },
   "file_extension": ".py",
   "mimetype": "text/x-python",
   "name": "python",
   "nbconvert_exporter": "python",
   "pygments_lexer": "ipython2",
   "version": "2.7.10"
  }
 },
 "nbformat": 4,
 "nbformat_minor": 2
}
